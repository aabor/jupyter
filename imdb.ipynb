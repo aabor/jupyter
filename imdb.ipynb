{
  "nbformat": 4,
  "nbformat_minor": 0,
  "metadata": {
    "colab": {
      "name": "imdb.ipynb",
      "provenance": [],
      "toc_visible": true,
      "mount_file_id": "1HTEkZjBzR7M0B9UbCg5jjxfOtB_zjk5y",
      "authorship_tag": "ABX9TyMpo32ovZUsImEeibC3XDa0",
      "include_colab_link": true
    },
    "kernelspec": {
      "name": "python3",
      "display_name": "Python 3"
    },
    "accelerator": "GPU"
  },
  "cells": [
    {
      "cell_type": "markdown",
      "metadata": {
        "id": "view-in-github",
        "colab_type": "text"
      },
      "source": [
        "<a href=\"https://colab.research.google.com/github/aabor/jupyter/blob/master/imdb.ipynb\" target=\"_parent\"><img src=\"https://colab.research.google.com/assets/colab-badge.svg\" alt=\"Open In Colab\"/></a>"
      ]
    },
    {
      "cell_type": "code",
      "metadata": {
        "id": "eEoURSyl7VDB",
        "colab_type": "code",
        "colab": {}
      },
      "source": [
        "import tensorflow as tf\n",
        "from tensorflow.keras import datasets, layers, models, preprocessing\n",
        "import tensorflow_datasets as tfds\n",
        "max_len = 200\n",
        "n_words = 10000\n",
        "dim_embedding = 256\n",
        "EPOCHS = 20\n",
        "BATCH_SIZE = 500\n",
        "def load_data():\n",
        "  # Load data.\n",
        "  (X_train, y_train), (X_test, y_test) = datasets.imdb.load_data(num_words=n_words)\n",
        "  # Pad sequences with max_len.\n",
        "  X_train = preprocessing.sequence.pad_sequences(X_train, maxlen=max_len)\n",
        "  X_test = preprocessing.sequence.pad_sequences(X_test, maxlen=max_len)\n",
        "  return (X_train, y_train), (X_test, y_test)"
      ],
      "execution_count": null,
      "outputs": []
    },
    {
      "cell_type": "code",
      "metadata": {
        "id": "3R7cuaG873rL",
        "colab_type": "code",
        "colab": {}
      },
      "source": [
        "def build_model():\n",
        "  model = models.Sequential()\n",
        "  # Input: - eEmbedding Layer.\n",
        "  # The model will take as input an integer matrix of size (batch,\n",
        "  # input_length).\n",
        "  # The model will output dimension (input_length, dim_embedding).\n",
        "  # The largest integer in the input should be no larger\n",
        "  # than n_words (vocabulary size).\n",
        "  model.add(layers.Embedding(n_words,\n",
        "                             dim_embedding, \n",
        "                             input_length=max_len))\n",
        "  model.add(layers.Dropout(0.3))\n",
        "  # Takes the maximum value of either feature vector from each of\n",
        "  # the n_words features.\n",
        "  model.add(layers.GlobalMaxPooling1D())\n",
        "  model.add(layers.Dense(128, activation='relu'))\n",
        "  model.add(layers.Dropout(0.5))\n",
        "  model.add(layers.Dense(1, activation='sigmoid'))\n",
        "  return model  "
      ],
      "execution_count": null,
      "outputs": []
    },
    {
      "cell_type": "code",
      "metadata": {
        "id": "jwI7Bxz68JOu",
        "colab_type": "code",
        "colab": {
          "base_uri": "https://localhost:8080/",
          "height": 1000
        },
        "outputId": "75c43f6c-3c1a-41df-a6a6-a2518d34f126"
      },
      "source": [
        "(X_train, y_train), (X_test, y_test) = load_data()\n",
        "model = build_model()\n",
        "model.summary()\n",
        "model.compile(optimizer = \"adam\", \n",
        "              loss = \"binary_crossentropy\",\n",
        "              metrics = [\"accuracy\"])\n",
        "score = model.fit(X_train, y_train,\n",
        "                  epochs = EPOCHS,\n",
        "                  batch_size = BATCH_SIZE,\n",
        "                  validation_data = (X_test, y_test))\n",
        "score = model.evaluate(X_test, y_test, batch_size=BATCH_SIZE)\n",
        "print(\"\\nTest score:\", score[0])\n",
        "print('Test accuracy:', score[1])"
      ],
      "execution_count": null,
      "outputs": [
        {
          "output_type": "stream",
          "text": [
            "Downloading data from https://storage.googleapis.com/tensorflow/tf-keras-datasets/imdb.npz\n",
            "17465344/17464789 [==============================] - 0s 0us/step\n",
            "Model: \"sequential\"\n",
            "_________________________________________________________________\n",
            "Layer (type)                 Output Shape              Param #   \n",
            "=================================================================\n",
            "embedding (Embedding)        (None, 200, 256)          2560000   \n",
            "_________________________________________________________________\n",
            "dropout (Dropout)            (None, 200, 256)          0         \n",
            "_________________________________________________________________\n",
            "global_max_pooling1d (Global (None, 256)               0         \n",
            "_________________________________________________________________\n",
            "dense (Dense)                (None, 128)               32896     \n",
            "_________________________________________________________________\n",
            "dropout_1 (Dropout)          (None, 128)               0         \n",
            "_________________________________________________________________\n",
            "dense_1 (Dense)              (None, 1)                 129       \n",
            "=================================================================\n",
            "Total params: 2,593,025\n",
            "Trainable params: 2,593,025\n",
            "Non-trainable params: 0\n",
            "_________________________________________________________________\n",
            "Epoch 1/20\n",
            "50/50 [==============================] - 8s 160ms/step - loss: 0.6759 - accuracy: 0.6180 - val_loss: 0.6433 - val_accuracy: 0.7861\n",
            "Epoch 2/20\n",
            "50/50 [==============================] - 8s 154ms/step - loss: 0.4893 - accuracy: 0.8292 - val_loss: 0.3762 - val_accuracy: 0.8576\n",
            "Epoch 3/20\n",
            "50/50 [==============================] - 8s 156ms/step - loss: 0.2871 - accuracy: 0.8816 - val_loss: 0.3048 - val_accuracy: 0.8748\n",
            "Epoch 4/20\n",
            "50/50 [==============================] - 8s 155ms/step - loss: 0.2191 - accuracy: 0.9152 - val_loss: 0.2902 - val_accuracy: 0.8792\n",
            "Epoch 5/20\n",
            "50/50 [==============================] - 8s 151ms/step - loss: 0.1728 - accuracy: 0.9370 - val_loss: 0.2896 - val_accuracy: 0.8778\n",
            "Epoch 6/20\n",
            "50/50 [==============================] - 8s 154ms/step - loss: 0.1348 - accuracy: 0.9541 - val_loss: 0.2937 - val_accuracy: 0.8741\n",
            "Epoch 7/20\n",
            "50/50 [==============================] - 8s 154ms/step - loss: 0.1031 - accuracy: 0.9680 - val_loss: 0.3050 - val_accuracy: 0.8703\n",
            "Epoch 8/20\n",
            "50/50 [==============================] - 8s 154ms/step - loss: 0.0774 - accuracy: 0.9774 - val_loss: 0.3235 - val_accuracy: 0.8644\n",
            "Epoch 9/20\n",
            "50/50 [==============================] - 8s 153ms/step - loss: 0.0605 - accuracy: 0.9843 - val_loss: 0.3360 - val_accuracy: 0.8626\n",
            "Epoch 10/20\n",
            "50/50 [==============================] - 8s 156ms/step - loss: 0.0439 - accuracy: 0.9900 - val_loss: 0.3560 - val_accuracy: 0.8592\n",
            "Epoch 11/20\n",
            "50/50 [==============================] - 8s 157ms/step - loss: 0.0318 - accuracy: 0.9934 - val_loss: 0.3754 - val_accuracy: 0.8563\n",
            "Epoch 12/20\n",
            "50/50 [==============================] - 8s 153ms/step - loss: 0.0250 - accuracy: 0.9951 - val_loss: 0.3911 - val_accuracy: 0.8555\n",
            "Epoch 13/20\n",
            "50/50 [==============================] - 8s 160ms/step - loss: 0.0203 - accuracy: 0.9959 - val_loss: 0.4069 - val_accuracy: 0.8548\n",
            "Epoch 14/20\n",
            "50/50 [==============================] - 8s 155ms/step - loss: 0.0144 - accuracy: 0.9979 - val_loss: 0.4235 - val_accuracy: 0.8540\n",
            "Epoch 15/20\n",
            "50/50 [==============================] - 8s 155ms/step - loss: 0.0127 - accuracy: 0.9980 - val_loss: 0.4338 - val_accuracy: 0.8540\n",
            "Epoch 16/20\n",
            "50/50 [==============================] - 8s 155ms/step - loss: 0.0112 - accuracy: 0.9980 - val_loss: 0.4492 - val_accuracy: 0.8526\n",
            "Epoch 17/20\n",
            "50/50 [==============================] - 8s 155ms/step - loss: 0.0093 - accuracy: 0.9983 - val_loss: 0.4669 - val_accuracy: 0.8523\n",
            "Epoch 18/20\n",
            "50/50 [==============================] - 8s 155ms/step - loss: 0.0081 - accuracy: 0.9991 - val_loss: 0.4881 - val_accuracy: 0.8481\n",
            "Epoch 19/20\n",
            "50/50 [==============================] - 8s 155ms/step - loss: 0.0065 - accuracy: 0.9992 - val_loss: 0.4963 - val_accuracy: 0.8489\n",
            "Epoch 20/20\n",
            "50/50 [==============================] - 8s 155ms/step - loss: 0.0056 - accuracy: 0.9994 - val_loss: 0.5049 - val_accuracy: 0.8495\n",
            "50/50 [==============================] - 2s 38ms/step - loss: 0.5049 - accuracy: 0.8495\n",
            "\n",
            "Test score: 0.5048898458480835\n",
            "Test accuracy: 0.8494799733161926\n"
          ],
          "name": "stdout"
        }
      ]
    },
    {
      "cell_type": "code",
      "metadata": {
        "id": "75rfRLJ28WB1",
        "colab_type": "code",
        "colab": {}
      },
      "source": [
        ""
      ],
      "execution_count": null,
      "outputs": []
    }
  ]
}